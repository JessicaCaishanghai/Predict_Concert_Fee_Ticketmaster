{
 "cells": [
  {
   "cell_type": "code",
   "execution_count": 6,
   "metadata": {},
   "outputs": [],
   "source": [
    "import pandas as pd\n",
    "import numpy as np\n",
    "from catboost import CatBoostClassifier, Pool\n",
    "from sklearn.model_selection import train_test_split\n",
    "from sklearn.metrics import roc_auc_score, accuracy_score\n"
   ]
  },
  {
   "cell_type": "markdown",
   "metadata": {},
   "source": [
    "## Result read csv\n"
   ]
  },
  {
   "cell_type": "code",
   "execution_count": 5,
   "metadata": {},
   "outputs": [
    {
     "data": {
      "text/plain": [
       "Index(['url', 'min_price', 'max_price', 'EVENT_ID', 'EVENT_NAME',\n",
       "       'EVENT_NOTES', 'EVENT_INFO', 'EVENT_STATUS', 'EVENT_START_DATETIME',\n",
       "       'EVENT_END_DATETIME', 'EVENT_START_LOCAL_DATE',\n",
       "       'EVENT_START_LOCAL_TIME', 'ONSALE_START_DATETIME',\n",
       "       'ONSALE_END_DATETIME', 'CLASSIFICATION_SEGMENT', 'CLASSIFICATION_GENRE',\n",
       "       'CLASSIFICATION_SUB_GENRE', 'EVENT_IMAGE_URL', 'MIN_PRICE', 'MAX_PRICE',\n",
       "       'CURRENCY', 'ATTRACTION_NAME', 'ATTRACTION_ID', 'ATTRACTION_IMAGE_URL',\n",
       "       'VENUE_NAME', 'VENUE_ID', 'VENUE_STREET', 'VENUE_CITY',\n",
       "       'VENUE_STATE_CODE', 'VENUE_COUNTRY_CODE', 'VENUE_LATITUDE',\n",
       "       'VENUE_LONGITUDE', 'VENUE_ZIP_CODE', 'VENUE_TIMEZONE', 'ATTRACTION_URL',\n",
       "       'VENUE_URL', 'PRIMARY_EVENT_URL', 'RESALE_EVENT_URL', 'PRESALE_NAME',\n",
       "       'PRESALE_DATETIME_RANGE', 'LEGACY_EVENT_ID', 'LEGACY_VENUE_ID',\n",
       "       'LEGACY_ATTRACTION_ID', 'PRESALE_NAME.1', 'PRESALE_DESCRIPTION',\n",
       "       'PRESALE_START_DATETIME', 'PRESALE_END_DATETIME', 'SOURCE',\n",
       "       'CLASSIFICATION_TYPE', 'CLASSIFICATION_SUB_TYPE', 'PROMOTER_ID',\n",
       "       'PROMOTER_NAME', 'CLASSIFICATION_SEGMENT_ID', 'CLASSIFICATION_GENRE_ID',\n",
       "       'CLASSIFICATION_SUB_GENRE_ID', 'CLASSIFICATION_TYPE_ID',\n",
       "       'CLASSIFICATION_SUB_TYPE_ID', 'ATTRACTION_CLASSIFICATION_SEGMENT_ID',\n",
       "       'ATTRACTION_CLASSIFICATION_SEGMENT',\n",
       "       'ATTRACTION_CLASSIFICATION_GENRE_ID', 'ATTRACTION_CLASSIFICATION_GENRE',\n",
       "       'ATTRACTION_CLASSIFICATION_SUB_GENRE_ID',\n",
       "       'ATTRACTION_CLASSIFICATION_SUB_GENRE',\n",
       "       'ATTRACTION_CLASSIFICATION_TYPE_ID', 'ATTRACTION_CLASSIFICATION_TYPE',\n",
       "       'ATTRACTION_CLASSIFICATION_SUB_TYPE_ID',\n",
       "       'ATTRACTION_CLASSIFICATION_SUB_TYPE', 'MIN_PRICE_WITH_FEES',\n",
       "       'MAX_PRICE_WITH_FEES', 'TRANSACTABLE', 'HOT_EVENT',\n",
       "       'ACCESSIBLE_SEATING_DETAIL', 'ADA_PHONE', 'ADA_CUSTOM_COPY',\n",
       "       'ADA_HOURS', 'ACCESSIBILITY_INFO', 'API_ONSALE_START_DATETIME',\n",
       "       'PLEASE_NOTE', 'IMPORTANT_INFORMATION', 'EVENT_END_LOCAL_DATE',\n",
       "       'time_to_start', 'time_since_start_sale', 'time_to_end_sale'],\n",
       "      dtype='object')"
      ]
     },
     "execution_count": 5,
     "metadata": {},
     "output_type": "execute_result"
    }
   ],
   "source": [
    "result = pd.read_csv('~/Desktop/2024_UCLA/Spring/418/Project/result.csv')\n",
    "result.columns\n"
   ]
  },
  {
   "cell_type": "code",
   "execution_count": 8,
   "metadata": {},
   "outputs": [],
   "source": [
    "result['average_price'] = result[['min_price','max_price']].mean(axis=1)\n"
   ]
  },
  {
   "cell_type": "code",
   "execution_count": 33,
   "metadata": {},
   "outputs": [
    {
     "data": {
      "text/plain": [
       "HOT_EVENT\n",
       "0    703\n",
       "1    115\n",
       "Name: count, dtype: int64"
      ]
     },
     "execution_count": 33,
     "metadata": {},
     "output_type": "execute_result"
    }
   ],
   "source": [
    "result['HOT_EVENT'] = result['HOT_EVENT'].astype(int) \n",
    "# result['HOT_EVENT'] = result['HOT_EVENT'].apply(lambda x: 1 if x == True else 0)\n",
    "result['HOT_EVENT'].value_counts()\n"
   ]
  },
  {
   "cell_type": "code",
   "execution_count": 34,
   "metadata": {},
   "outputs": [],
   "source": [
    "features = [\n",
    "    'CLASSIFICATION_SEGMENT', \n",
    "    'CLASSIFICATION_GENRE',\n",
    "    'HOT_EVENT',\n",
    "    'VENUE_CITY', \n",
    "    'VENUE_STATE_CODE', \n",
    "    'VENUE_ZIP_CODE',\n",
    "    'time_to_start',# how long it takes until the event kicks off\n",
    "    'time_since_start_sale', # how long has it been since the start sale\n",
    "    'time_to_end_sale'\n",
    "]\n",
    "X = result[features]\n",
    "y = result['average_price']\n",
    "X_train, X_test, y_train, y_test = train_test_split(X, y, test_size=0.2, random_state=42)\n",
    "\n",
    "categorical_features = ['CLASSIFICATION_SEGMENT', 'CLASSIFICATION_GENRE', 'HOT_EVENT', 'VENUE_CITY', 'VENUE_STATE_CODE', 'VENUE_ZIP_CODE']\n",
    "\n"
   ]
  },
  {
   "cell_type": "code",
   "execution_count": 35,
   "metadata": {},
   "outputs": [],
   "source": [
    "for col in categorical_features:\n",
    "    X_train[col] = X_train[col].astype(str).fillna('missing')\n",
    "    X_test[col] = X_test[col].astype(str).fillna('missing')\n"
   ]
  },
  {
   "cell_type": "code",
   "execution_count": 36,
   "metadata": {},
   "outputs": [
    {
     "name": "stdout",
     "output_type": "stream",
     "text": [
      "0:\tlearn: 83.3074272\ttotal: 20ms\tremaining: 1.98s\n",
      "99:\tlearn: 46.5515843\ttotal: 150ms\tremaining: 0us\n"
     ]
    },
    {
     "data": {
      "text/plain": [
       "<catboost.core.CatBoostRegressor at 0x13c3af640>"
      ]
     },
     "execution_count": 36,
     "metadata": {},
     "output_type": "execute_result"
    }
   ],
   "source": [
    "from catboost import CatBoostRegressor, Pool\n",
    "model = CatBoostRegressor(\n",
    "    iterations=100,\n",
    "    learning_rate=0.1,\n",
    "    depth=6,\n",
    "    cat_features=categorical_features,\n",
    "    verbose=100\n",
    ")\n",
    "\n",
    "model.fit(X_train, y_train)"
   ]
  },
  {
   "cell_type": "code",
   "execution_count": 37,
   "metadata": {},
   "outputs": [
    {
     "name": "stdout",
     "output_type": "stream",
     "text": [
      "Mean Squared Error (MSE): 2940.29\n",
      "R-squared (R²): 0.5192\n"
     ]
    }
   ],
   "source": [
    "from sklearn.metrics import mean_squared_error, r2_score\n",
    "\n",
    "# 预测\n",
    "y_pred = model.predict(X_test)\n",
    "\n",
    "# 计算 MSE 和 R²\n",
    "mse = mean_squared_error(y_test, y_pred)\n",
    "r2 = r2_score(y_test, y_pred)\n",
    "\n",
    "print(f\"Mean Squared Error (MSE): {mse:.2f}\")\n",
    "print(f\"R-squared (R²): {r2:.4f}\")\n"
   ]
  }
 ],
 "metadata": {
  "kernelspec": {
   "display_name": "langchain-env",
   "language": "python",
   "name": "python3"
  },
  "language_info": {
   "codemirror_mode": {
    "name": "ipython",
    "version": 3
   },
   "file_extension": ".py",
   "mimetype": "text/x-python",
   "name": "python",
   "nbconvert_exporter": "python",
   "pygments_lexer": "ipython3",
   "version": "3.9.21"
  },
  "orig_nbformat": 4
 },
 "nbformat": 4,
 "nbformat_minor": 2
}
